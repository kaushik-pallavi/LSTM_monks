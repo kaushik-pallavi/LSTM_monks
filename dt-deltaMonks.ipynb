{
 "cells": [
  {
   "cell_type": "code",
   "execution_count": null,
   "metadata": {
    "execution": {
     "iopub.execute_input": "2022-09-15T05:46:50.921230Z",
     "iopub.status.busy": "2022-09-15T05:46:50.920805Z",
     "iopub.status.idle": "2022-09-15T05:46:50.926889Z",
     "shell.execute_reply": "2022-09-15T05:46:50.925850Z",
     "shell.execute_reply.started": "2022-09-15T05:46:50.921195Z"
    },
    "id": "hqF9q4YI0m1p"
   },
   "outputs": [],
   "source": [
    "import pandas as pd\n",
    "import numpy as np\n",
    "import glob as glob\n",
    "import scipy.io as scio\n",
    "from IPython.core.interactiveshell import InteractiveShell\n",
    "InteractiveShell.ast_node_interactivity = \"all\""
   ]
  },
  {
   "cell_type": "markdown",
   "metadata": {
    "id": "TRyVl8g60m1t"
   },
   "source": [
    "### Read the data (Final data without NaNs)"
   ]
  },
  {
   "cell_type": "code",
   "execution_count": null,
   "metadata": {
    "execution": {
     "iopub.execute_input": "2022-09-15T05:48:10.410828Z",
     "iopub.status.busy": "2022-09-15T05:48:10.410374Z",
     "iopub.status.idle": "2022-09-15T05:48:33.461693Z",
     "shell.execute_reply": "2022-09-15T05:48:33.460286Z",
     "shell.execute_reply.started": "2022-09-15T05:48:10.410779Z"
    },
    "id": "JQR1nDpR02_d"
   },
   "outputs": [],
   "source": [
    "data=pd.read_csv('P:\\\\data.csv',header=None)\n",
    "data.head()\n",
    "data.shape\n"
   ]
  },
  {
   "cell_type": "markdown",
   "metadata": {
    "id": "bCw5nx_00m16"
   },
   "source": [
    "### Check for NANs"
   ]
  },
  {
   "cell_type": "code",
   "execution_count": null,
   "metadata": {
    "execution": {
     "iopub.execute_input": "2022-09-15T05:54:31.018609Z",
     "iopub.status.busy": "2022-09-15T05:54:31.018211Z",
     "iopub.status.idle": "2022-09-15T05:54:39.412767Z",
     "shell.execute_reply": "2022-09-15T05:54:39.411550Z",
     "shell.execute_reply.started": "2022-09-15T05:54:31.018578Z"
    },
    "id": "bgaomifN0m17",
    "outputId": "97ae022d-3d33-4bd3-c030-34050c3206ca"
   },
   "outputs": [],
   "source": [
    "np.unique(data.isnull())\n",
    "data.isnull().sum().sum()"
   ]
  },
  {
   "cell_type": "markdown",
   "metadata": {
    "id": "KyY-0ixB0m19"
   },
   "source": [
    "### Create Labels"
   ]
  },
  {
   "cell_type": "code",
   "execution_count": null,
   "metadata": {
    "execution": {
     "iopub.execute_input": "2022-09-15T05:54:42.462779Z",
     "iopub.status.busy": "2022-09-15T05:54:42.461922Z",
     "iopub.status.idle": "2022-09-15T05:54:42.475359Z",
     "shell.execute_reply": "2022-09-15T05:54:42.474142Z",
     "shell.execute_reply.started": "2022-09-15T05:54:42.462733Z"
    },
    "id": "wg0Dfobi0m1_",
    "outputId": "7f0778f1-bdc7-4d75-aa53-b015f9c1cac0"
   },
   "outputs": [],
   "source": [
    "labels=data['32']\n",
    "type(labels)\n",
    "labels.shape"
   ]
  },
  {
   "cell_type": "code",
   "execution_count": null,
   "metadata": {
    "execution": {
     "iopub.execute_input": "2022-09-15T05:54:45.295338Z",
     "iopub.status.busy": "2022-09-15T05:54:45.294494Z",
     "iopub.status.idle": "2022-09-15T05:54:45.547472Z",
     "shell.execute_reply": "2022-09-15T05:54:45.546283Z",
     "shell.execute_reply.started": "2022-09-15T05:54:45.295289Z"
    },
    "id": "zubrdh_90m2B",
    "outputId": "4a4c96bb-d5b4-427a-a883-3d5ca9819f8e",
    "scrolled": true
   },
   "outputs": [],
   "source": [
    "labels[0:3]\n",
    "np.unique(labels)"
   ]
  },
  {
   "cell_type": "markdown",
   "metadata": {
    "id": "7l9bR4dp0m2E"
   },
   "source": [
    "### Extract the data part "
   ]
  },
  {
   "cell_type": "code",
   "execution_count": null,
   "metadata": {
    "execution": {
     "iopub.execute_input": "2022-09-15T05:54:51.346391Z",
     "iopub.status.busy": "2022-09-15T05:54:51.345931Z",
     "iopub.status.idle": "2022-09-15T05:54:51.354766Z",
     "shell.execute_reply": "2022-09-15T05:54:51.353829Z",
     "shell.execute_reply.started": "2022-09-15T05:54:51.346354Z"
    },
    "id": "cD_OzTzH0m2F",
    "outputId": "18808a82-3798-4101-dbd8-e18707e1a672"
   },
   "outputs": [],
   "source": [
    "data.columns[:-1]"
   ]
  },
  {
   "cell_type": "code",
   "execution_count": null,
   "metadata": {
    "execution": {
     "iopub.execute_input": "2022-09-15T05:54:58.525087Z",
     "iopub.status.busy": "2022-09-15T05:54:58.524588Z",
     "iopub.status.idle": "2022-09-15T05:54:59.638628Z",
     "shell.execute_reply": "2022-09-15T05:54:59.637489Z",
     "shell.execute_reply.started": "2022-09-15T05:54:58.525012Z"
    },
    "id": "sZA0WpJl0m2F",
    "outputId": "0de32529-9be8-4142-9b2c-1a9249976063"
   },
   "outputs": [],
   "source": [
    "data_only=data[data.columns[:-1]]\n",
    "data_only.shape\n",
    "data_only.head()"
   ]
  },
  {
   "cell_type": "code",
   "execution_count": null,
   "metadata": {
    "execution": {
     "iopub.execute_input": "2022-09-15T06:10:15.221823Z",
     "iopub.status.busy": "2022-09-15T06:10:15.220385Z"
    }
   },
   "outputs": [],
   "source": [
    "from sklearn.tree import RandomForestClassifier\n",
    "dtree=DecisionTreeClassifier()\n",
    "from sklearn.model_selection import cross_val_score\n",
    "from sklearn.model_selection import RepeatedStratifiedKFold,KFold\n",
    "from numpy import mean\n",
    "dtree=RandomForestClassifier(n_estimators=50,max_depth=16,random_state=27)\n",
    "cv = KFold(n_splits=5, random_state=27,shuffle=True)\n",
    "cv_results = cross_val_score(dtree, data_only, labels, cv=cv, scoring='roc_auc', verbose=10)\n",
    "print(cv_results.mean(), cv_results.std())"
   ]
  },
  {
   "cell_type": "code",
   "execution_count": null,
   "metadata": {},
   "outputs": [],
   "source": []
  }
 ],
 "metadata": {
  "kernelspec": {
   "display_name": "Python 3",
   "language": "python",
   "name": "python3"
  },
  "language_info": {
   "codemirror_mode": {
    "name": "ipython",
    "version": 3
   },
   "file_extension": ".py",
   "mimetype": "text/x-python",
   "name": "python",
   "nbconvert_exporter": "python",
   "pygments_lexer": "ipython3",
   "version": "3.7.3"
  }
 },
 "nbformat": 4,
 "nbformat_minor": 4
}
